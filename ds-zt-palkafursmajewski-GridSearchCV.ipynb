{
 "cells": [
  {
   "cell_type": "code",
   "execution_count": 1,
   "metadata": {},
   "outputs": [
    {
     "name": "stdout",
     "output_type": "stream",
     "text": [
      "Ok - import\n"
     ]
    }
   ],
   "source": [
    "import os\n",
    "import dask.dataframe as dd\n",
    "import numpy as np\n",
    "from sklearn.preprocessing import StandardScaler\n",
    "from sklearn.model_selection import TimeSeriesSplit, GridSearchCV\n",
    "from lightgbm import LGBMRegressor\n",
    "from sklearn.metrics import make_scorer, mean_squared_error\n",
    "import pyarrow.parquet as pq\n",
    "import pandas as pd\n",
    "import datetime\n",
    "\n",
    "print('Ok - import')"
   ]
  },
  {
   "cell_type": "code",
   "execution_count": 2,
   "metadata": {},
   "outputs": [
    {
     "name": "stdout",
     "output_type": "stream",
     "text": [
      "Próbka danych: (7073668, 81)\n"
     ]
    }
   ],
   "source": [
    "# ---------------- Przygotowanie danych ----------------\n",
    "competition_path = \"M:/PycharmProjects/ds-zt-LGBMRegressor-main/kaggle-dtset\"  # Ścieżka do danych konkursowych\n",
    "batch_size = 1000000  # Rozmiar batcha treningowych\n",
    "percent_of_dataset = 0.2  # Ile procent dataset używamy\n",
    "\n",
    "# Ścieżki do danych\n",
    "train_path = os.path.join(competition_path, \"train.parquet\")\n",
    "test_path = os.path.join(competition_path, \"test.parquet\")\n",
    "features = [f'feature_{i:02}' for i in range(79)]\n",
    "target_train = 'responder_6'  # Target do przewidzenia\n",
    "weights = 'weight'\n",
    "\n",
    "# Wczytanie danych przy użyciu Dask\n",
    "ddf_train = dd.read_parquet(train_path, columns=features + [target_train, weights])\n",
    "data_train = ddf_train.sample(frac=percent_of_dataset, random_state=42).compute()\n",
    "data_train = data_train.dropna(subset=features + [target_train, weights])  # Usunięcie braków\n",
    "\n",
    "X_train = data_train[features]\n",
    "y_train = data_train[target_train]\n",
    "sample_weights_train = data_train[weights]\n",
    "\n",
    "print(f\"Próbka danych: {data_train.shape}\")\n"
   ]
  },
  {
   "cell_type": "code",
   "execution_count": null,
   "metadata": {},
   "outputs": [
    {
     "name": "stdout",
     "output_type": "stream",
     "text": [
      "Fitting 5 folds for each of 2187 candidates, totalling 10935 fits\n"
     ]
    }
   ],
   "source": [
    "# ---------------- Parametry GridSearchCV ----------------\n",
    "param_grid = {\n",
    "    'n_estimators': [100, 300, 500],       # Liczba drzew\n",
    "    'learning_rate': [0.01, 0.05, 0.1],    # Współczynnik uczenia\n",
    "    'num_leaves': [31, 50, 100],           # Liczba liści\n",
    "    'feature_fraction': [0.8, 0.9, 1.0],   # Frakcja cech używanych na drzewo\n",
    "    'subsample': [0.8, 0.9, 1.0],          # Frakcja próbek\n",
    "    'max_depth': [-1, 7, 15],              # Maksymalna głębokość drzewa\n",
    "    'min_child_samples': [20, 30, 50]      # Minimalna liczba próbek w liściu\n",
    "}\n",
    "\n",
    "# Inicjalizacja modelu\n",
    "model = LGBMRegressor(objective='regression', metric='mse', random_state=42)\n",
    "\n",
    "# Skorer dla GridSearchCV\n",
    "mse_scorer = make_scorer(mean_squared_error, greater_is_better=False)\n",
    "\n",
    "# Cross-validation z podziałem czasowym\n",
    "tscv = TimeSeriesSplit(n_splits=5)\n",
    "\n",
    "# Inicjalizacja GridSearchCV\n",
    "grid_search = GridSearchCV(\n",
    "    estimator=model,\n",
    "    param_grid=param_grid,\n",
    "    scoring=mse_scorer,\n",
    "    cv=tscv,\n",
    "    verbose=1,\n",
    "    n_jobs=-1\n",
    ")\n",
    "\n",
    "# Dopasowanie modelu\n",
    "grid_search.fit(X_train, y_train, sample_weight=sample_weights_train)\n"
   ]
  },
  {
   "cell_type": "code",
   "execution_count": null,
   "metadata": {
    "_cell_guid": "b1076dfc-b9ad-4769-8c92-a6c4dae69d19",
    "_uuid": "8f2839f25d086af736a60e9eeb907d3b93b6e0e5",
    "jupyter": {
     "is_executing": true
    }
   },
   "outputs": [],
   "source": [
    "# ---------------- Wyniki GridSearchCV ----------------\n",
    "print(\"\\nNajlepsze parametry:\")\n",
    "print(grid_search.best_params_)\n",
    "\n",
    "print(\"\\nNajlepszy wynik (MSE):\")\n",
    "print(-grid_search.best_score_)\n",
    "\n",
    "# Wyświetlenie wyników dla każdej kombinacji parametrów\n",
    "print(\"\\nWyniki wszystkich prób:\")\n",
    "results = grid_search.cv_results_\n",
    "for mean, std, params in zip(results['mean_test_score'], results['std_test_score'], results['params']):\n",
    "    print(f\"MSE: {-mean:.4f} (std: {std:.4f}) dla parametrów: {params}\")\n",
    "\n",
    "# Zapis wyników do pliku\n",
    "now = datetime.datetime.now()\n",
    "date_str = now.strftime(\"%Y-%m-%d-%H-%M-%S\")\n",
    "file_name = f\"gridsearch_results_{date_str}.txt\"\n",
    "\n",
    "with open(file_name, 'w') as f:\n",
    "    f.write(f\"Najlepsze parametry: {grid_search.best_params_}\\n\")\n",
    "    f.write(f\"Najlepszy wynik (MSE): {-grid_search.best_score_:.4f}\\n\\n\")\n",
    "    f.write(\"Wyniki wszystkich prób:\\n\")\n",
    "    for mean, std, params in zip(results['mean_test_score'], results['std_test_score'], results['params']):\n",
    "        f.write(f\"MSE: {-mean:.4f} (std: {std:.4f}) dla parametrów: {params}\\n\")\n",
    "\n",
    "print(f\"\\nWyniki zapisano do pliku: {file_name}\")"
   ]
  },
  {
   "cell_type": "code",
   "execution_count": null,
   "metadata": {},
   "outputs": [],
   "source": []
  }
 ],
 "metadata": {
  "kaggle": {
   "accelerator": "none",
   "dataSources": [
    {
     "databundleVersionId": 9871156,
     "sourceId": 84493,
     "sourceType": "competition"
    }
   ],
   "dockerImageVersionId": 30839,
   "isGpuEnabled": false,
   "isInternetEnabled": true,
   "language": "python",
   "sourceType": "notebook"
  },
  "kernelspec": {
   "display_name": "Python 3 (ipykernel)",
   "language": "python",
   "name": "python3"
  },
  "language_info": {
   "codemirror_mode": {
    "name": "ipython",
    "version": 3
   },
   "file_extension": ".py",
   "mimetype": "text/x-python",
   "name": "python",
   "nbconvert_exporter": "python",
   "pygments_lexer": "ipython3",
   "version": "3.10.7"
  }
 },
 "nbformat": 4,
 "nbformat_minor": 4
}
