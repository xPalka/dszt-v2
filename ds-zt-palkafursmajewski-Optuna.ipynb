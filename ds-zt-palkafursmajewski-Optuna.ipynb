{
 "cells": [
  {
   "cell_type": "code",
   "execution_count": 2,
   "metadata": {},
   "outputs": [
    {
     "name": "stdout",
     "output_type": "stream",
     "text": [
      "Ok - import\n"
     ]
    }
   ],
   "source": [
    "import os\n",
    "import dask.dataframe as dd\n",
    "import numpy as np\n",
    "from sklearn.model_selection import TimeSeriesSplit\n",
    "from lightgbm import LGBMRegressor\n",
    "from sklearn.metrics import mean_squared_error\n",
    "import optuna\n",
    "import pyarrow.parquet as pq\n",
    "import pandas as pd\n",
    "import datetime\n",
    "\n",
    "print('Ok - import')"
   ]
  },
  {
   "cell_type": "code",
   "execution_count": 3,
   "metadata": {},
   "outputs": [
    {
     "name": "stdout",
     "output_type": "stream",
     "text": [
      "Próbka danych: (2652773, 81)\n"
     ]
    }
   ],
   "source": [
    "# ---------------- Przygotowanie danych ----------------\n",
    "competition_path = \"M:/PycharmProjects/ds-zt-LGBMRegressor-main/kaggle-dtset\"  # Ścieżka do danych konkursowych\n",
    "batch_size = 1000000  # Rozmiar batcha treningowych\n",
    "percent_of_dataset = 0.075  # Ile procent dataset używamy - 7,5%\n",
    "\n",
    "# Ścieżki do danych\n",
    "train_path = os.path.join(competition_path, \"train.parquet\")\n",
    "test_path = os.path.join(competition_path, \"test.parquet\")\n",
    "features = [f'feature_{i:02}' for i in range(79)]\n",
    "target_train = 'responder_6'  # Target do przewidzenia\n",
    "weights = 'weight'\n",
    "\n",
    "# Wczytanie danych przy użyciu Dask\n",
    "ddf_train = dd.read_parquet(train_path, columns=features + [target_train, weights])\n",
    "data_train = ddf_train.sample(frac=percent_of_dataset, random_state=42).compute()\n",
    "data_train = data_train.dropna(subset=features + [target_train, weights])  # Usunięcie braków\n",
    "\n",
    "X_train = data_train[features]\n",
    "y_train = data_train[target_train]\n",
    "sample_weights_train = data_train[weights]\n",
    "\n",
    "print(f\"Próbka danych: {data_train.shape}\")\n"
   ]
  },
  {
   "cell_type": "code",
   "execution_count": null,
   "metadata": {},
   "outputs": [],
   "source": [
    "# ---------------- Optymalizacja z Optuna ----------------\n",
    "def objective(trial):\n",
    "    # Przestrzeń hiperparametrów\n",
    "    params = {\n",
    "        'n_estimators': trial.suggest_int('n_estimators', 100, 500),           # Liczba drzew\n",
    "        'learning_rate': trial.suggest_loguniform('learning_rate', 0.01, 0.1), # Współczynnik uczenia\n",
    "        'num_leaves': trial.suggest_int('num_leaves', 31, 100),                # Liczba liści\n",
    "        'feature_fraction': trial.suggest_uniform('feature_fraction', 0.8, 1.0), # Frakcja cech\n",
    "        'subsample': trial.suggest_uniform('subsample', 0.8, 1.0),             # Frakcja próbek\n",
    "        'max_depth': trial.suggest_int('max_depth', -1, 15),                   # Maksymalna głębokość\n",
    "        'min_child_samples': trial.suggest_int('min_child_samples', 20, 50),   # Minimalna liczba próbek w liściu\n",
    "        'lambda_l1': trial.suggest_loguniform('lambda_l1', 1e-3, 10.0),        # Regularyzacja L1\n",
    "        'lambda_l2': trial.suggest_loguniform('lambda_l2', 1e-3, 10.0),        # Regularyzacja L2\n",
    "        'max_bin': trial.suggest_int('max_bin', 127, 255),                     # Maksymalna liczba binów\n",
    "        'random_state': 42\n",
    "    }\n",
    "\n",
    "    # Model LightGBM z nowym celem\n",
    "    model = LGBMRegressor(objective='huber', metric='mae', **params)\n",
    "\n",
    "    # Cross-validation z podziałem czasowym\n",
    "    tscv = TimeSeriesSplit(n_splits=5)\n",
    "    scores = []\n",
    "\n",
    "    for train_idx, valid_idx in tscv.split(X_train):\n",
    "        X_fold_train, X_fold_valid = X_train.iloc[train_idx], X_train.iloc[valid_idx]\n",
    "        y_fold_train, y_fold_valid = y_train.iloc[train_idx], y_train.iloc[valid_idx]\n",
    "        weights_fold_train = sample_weights_train.iloc[train_idx]\n",
    "\n",
    "        # Dopasowanie modelu (bez verbose)\n",
    "        model.fit(\n",
    "            X_fold_train, y_fold_train, \n",
    "            sample_weight=weights_fold_train,\n",
    "            eval_set=[(X_fold_valid, y_fold_valid)],\n",
    "            eval_metric='mae',\n",
    "        )\n",
    "\n",
    "        # Predykcja i obliczenie MAE\n",
    "        preds = model.predict(X_fold_valid)\n",
    "        mae = mean_absolute_error(y_fold_valid, preds)\n",
    "        scores.append(mae)\n",
    "\n",
    "    # Zwracanie średniej wartości MAE\n",
    "    return np.mean(scores)\n",
    "\n",
    "# Optymalizacja z Optuna\n",
    "study = optuna.create_study(direction=\"minimize\")\n",
    "study.optimize(objective, n_trials=50)\n",
    "\n",
    "# Wyświetlenie najlepszego zestawu parametrów i wyniku\n",
    "print(\"\\nNajlepsze parametry:\")\n",
    "print(study.best_params)\n",
    "\n",
    "print(\"\\nNajlepszy wynik (MAE):\")\n",
    "print(study.best_value)\n"
   ]
  },
  {
   "cell_type": "code",
   "execution_count": null,
   "metadata": {
    "_cell_guid": "b1076dfc-b9ad-4769-8c92-a6c4dae69d19",
    "_uuid": "8f2839f25d086af736a60e9eeb907d3b93b6e0e5",
    "jupyter": {
     "is_executing": true
    }
   },
   "outputs": [],
   "source": [
    "# ---------------- Wyniki Optuna ----------------\n",
    "print(\"\\nNajlepsze parametry:\")\n",
    "print(study.best_params)\n",
    "\n",
    "print(\"\\nNajlepszy wynik (MSE):\")\n",
    "print(study.best_value)\n",
    "\n",
    "# Zapis wyników do pliku\n",
    "now = datetime.datetime.now()\n",
    "date_str = now.strftime(\"%Y-%m-%d-%H-%M-%S\")\n",
    "file_name = f\"optuna_results_{date_str}.txt\"\n",
    "\n",
    "with open(file_name, 'w') as f:\n",
    "    f.write(f\"Najlepsze parametry: {study.best_params}\\n\")\n",
    "    f.write(f\"Najlepszy wynik (MSE): {study.best_value:.4f}\\n\")\n",
    "\n",
    "print(f\"\\nWyniki zapisano do pliku: {file_name}\")"
   ]
  },
  {
   "cell_type": "code",
   "execution_count": null,
   "metadata": {},
   "outputs": [],
   "source": []
  }
 ],
 "metadata": {
  "kaggle": {
   "accelerator": "none",
   "dataSources": [
    {
     "databundleVersionId": 9871156,
     "sourceId": 84493,
     "sourceType": "competition"
    }
   ],
   "dockerImageVersionId": 30839,
   "isGpuEnabled": false,
   "isInternetEnabled": true,
   "language": "python",
   "sourceType": "notebook"
  },
  "kernelspec": {
   "display_name": "Python 3 (ipykernel)",
   "language": "python",
   "name": "python3"
  },
  "language_info": {
   "codemirror_mode": {
    "name": "ipython",
    "version": 3
   },
   "file_extension": ".py",
   "mimetype": "text/x-python",
   "name": "python",
   "nbconvert_exporter": "python",
   "pygments_lexer": "ipython3",
   "version": "3.10.7"
  }
 },
 "nbformat": 4,
 "nbformat_minor": 4
}
